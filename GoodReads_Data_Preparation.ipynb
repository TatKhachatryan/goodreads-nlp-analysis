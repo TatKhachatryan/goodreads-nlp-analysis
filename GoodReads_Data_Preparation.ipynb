{
 "cells": [
  {
   "cell_type": "code",
   "execution_count": 21,
   "id": "a4dbba1d",
   "metadata": {},
   "outputs": [],
   "source": [
    "import time\n",
    "import json\n",
    "import pandas as pd\n",
    "import numpy as np\n",
    "import ast\n",
    "import warnings\n",
    "warnings.filterwarnings('ignore')\n",
    "\n",
    "# visualization libraries\n",
    "import matplotlib.pyplot as plt\n",
    "import seaborn as sns\n",
    "import plotly.express as px\n",
    "\n",
    "# nlp libraries\n",
    "import nltk\n",
    "from nltk.corpus import stopwords\n",
    "from nltk.tokenize import word_tokenize\n",
    "from nltk.stem import WordNetLemmatizer\n",
    "import string\n",
    "import spacy\n",
    "from spacy.lang.en.stop_words import STOP_WORDS\n",
    "\n",
    "\n",
    "# nltk.download('punkt')\n",
    "# nltk.download('stopwords')\n",
    "# nltk.download('wordnet')"
   ]
  },
  {
   "cell_type": "code",
   "execution_count": 8,
   "id": "7436b228",
   "metadata": {},
   "outputs": [],
   "source": [
    "# data_list = []\n",
    "\n",
    "# with open('goodreads_reviews_spoiler.json', 'r') as file:\n",
    "#     for line in file:\n",
    "#         data_list.append(json.loads(line))\n",
    "\n",
    "# # convert to pandas dataframe\n",
    "# df = pd.DataFrame(data_list)\n",
    "\n",
    "# df.to_csv('goodreads_reviews_spoiler.csv', index=False)"
   ]
  },
  {
   "cell_type": "code",
   "execution_count": 7,
   "id": "52f8a52f-04a3-4e45-8b42-5229a78757c3",
   "metadata": {},
   "outputs": [
    {
     "data": {
      "text/html": [
       "<div>\n",
       "<style scoped>\n",
       "    .dataframe tbody tr th:only-of-type {\n",
       "        vertical-align: middle;\n",
       "    }\n",
       "\n",
       "    .dataframe tbody tr th {\n",
       "        vertical-align: top;\n",
       "    }\n",
       "\n",
       "    .dataframe thead th {\n",
       "        text-align: right;\n",
       "    }\n",
       "</style>\n",
       "<table border=\"1\" class=\"dataframe\">\n",
       "  <thead>\n",
       "    <tr style=\"text-align: right;\">\n",
       "      <th></th>\n",
       "      <th>user_id</th>\n",
       "      <th>timestamp</th>\n",
       "      <th>rating</th>\n",
       "      <th>has_spoiler</th>\n",
       "      <th>book_id</th>\n",
       "      <th>review_id</th>\n",
       "      <th>review_text</th>\n",
       "      <th>review_length</th>\n",
       "      <th>is_short_review</th>\n",
       "      <th>processed_review_text_NLTK</th>\n",
       "      <th>processed_review_text_SPACY</th>\n",
       "    </tr>\n",
       "  </thead>\n",
       "  <tbody>\n",
       "    <tr>\n",
       "      <th>0</th>\n",
       "      <td>8842281e1d1347389f2ab93d60773d4d</td>\n",
       "      <td>2017-08-30</td>\n",
       "      <td>5</td>\n",
       "      <td>True</td>\n",
       "      <td>18245960</td>\n",
       "      <td>dfdbb7b0eb5a7e4c26d59a937e2e5feb</td>\n",
       "      <td>This is a special book. It started slow for ab...</td>\n",
       "      <td>365</td>\n",
       "      <td>False</td>\n",
       "      <td>special book started slow first third middle t...</td>\n",
       "      <td>special book start slow middle start interesti...</td>\n",
       "    </tr>\n",
       "    <tr>\n",
       "      <th>1</th>\n",
       "      <td>8842281e1d1347389f2ab93d60773d4d</td>\n",
       "      <td>2017-03-22</td>\n",
       "      <td>3</td>\n",
       "      <td>False</td>\n",
       "      <td>16981</td>\n",
       "      <td>a5d2c3628987712d0e05c4f90798eb67</td>\n",
       "      <td>Recommended by Don Katz. Avail for free in Dec...</td>\n",
       "      <td>10</td>\n",
       "      <td>True</td>\n",
       "      <td>recommended katz avail free december http</td>\n",
       "      <td>recommend don katz avail free december http://...</td>\n",
       "    </tr>\n",
       "    <tr>\n",
       "      <th>2</th>\n",
       "      <td>8842281e1d1347389f2ab93d60773d4d</td>\n",
       "      <td>2017-03-20</td>\n",
       "      <td>3</td>\n",
       "      <td>True</td>\n",
       "      <td>28684704</td>\n",
       "      <td>2ede853b14dc4583f96cf5d120af636f</td>\n",
       "      <td>A fun, fast paced science fiction thriller. I ...</td>\n",
       "      <td>465</td>\n",
       "      <td>False</td>\n",
       "      <td>fun fast paced science fiction thriller read 2...</td>\n",
       "      <td>fun fast pace science fiction thriller read 2 ...</td>\n",
       "    </tr>\n",
       "    <tr>\n",
       "      <th>3</th>\n",
       "      <td>8842281e1d1347389f2ab93d60773d4d</td>\n",
       "      <td>2016-11-09</td>\n",
       "      <td>0</td>\n",
       "      <td>False</td>\n",
       "      <td>27161156</td>\n",
       "      <td>ced5675e55cd9d38a524743f5c40996e</td>\n",
       "      <td>Recommended reading to understand what is goin...</td>\n",
       "      <td>19</td>\n",
       "      <td>True</td>\n",
       "      <td>recommended reading understand going middle am...</td>\n",
       "      <td>recommend reading understand middle america po...</td>\n",
       "    </tr>\n",
       "    <tr>\n",
       "      <th>4</th>\n",
       "      <td>8842281e1d1347389f2ab93d60773d4d</td>\n",
       "      <td>2016-04-25</td>\n",
       "      <td>4</td>\n",
       "      <td>True</td>\n",
       "      <td>25884323</td>\n",
       "      <td>332732725863131279a8e345b63ac33e</td>\n",
       "      <td>I really enjoyed this book, and there is a lot...</td>\n",
       "      <td>733</td>\n",
       "      <td>False</td>\n",
       "      <td>really enjoyed book lot recommend drag little ...</td>\n",
       "      <td>enjoy book lot recommend drag little end knock...</td>\n",
       "    </tr>\n",
       "  </tbody>\n",
       "</table>\n",
       "</div>"
      ],
      "text/plain": [
       "                            user_id   timestamp  rating  has_spoiler  \\\n",
       "0  8842281e1d1347389f2ab93d60773d4d  2017-08-30       5         True   \n",
       "1  8842281e1d1347389f2ab93d60773d4d  2017-03-22       3        False   \n",
       "2  8842281e1d1347389f2ab93d60773d4d  2017-03-20       3         True   \n",
       "3  8842281e1d1347389f2ab93d60773d4d  2016-11-09       0        False   \n",
       "4  8842281e1d1347389f2ab93d60773d4d  2016-04-25       4         True   \n",
       "\n",
       "    book_id                         review_id  \\\n",
       "0  18245960  dfdbb7b0eb5a7e4c26d59a937e2e5feb   \n",
       "1     16981  a5d2c3628987712d0e05c4f90798eb67   \n",
       "2  28684704  2ede853b14dc4583f96cf5d120af636f   \n",
       "3  27161156  ced5675e55cd9d38a524743f5c40996e   \n",
       "4  25884323  332732725863131279a8e345b63ac33e   \n",
       "\n",
       "                                         review_text  review_length  \\\n",
       "0  This is a special book. It started slow for ab...            365   \n",
       "1  Recommended by Don Katz. Avail for free in Dec...             10   \n",
       "2  A fun, fast paced science fiction thriller. I ...            465   \n",
       "3  Recommended reading to understand what is goin...             19   \n",
       "4  I really enjoyed this book, and there is a lot...            733   \n",
       "\n",
       "   is_short_review                         processed_review_text_NLTK  \\\n",
       "0            False  special book started slow first third middle t...   \n",
       "1             True          recommended katz avail free december http   \n",
       "2            False  fun fast paced science fiction thriller read 2...   \n",
       "3             True  recommended reading understand going middle am...   \n",
       "4            False  really enjoyed book lot recommend drag little ...   \n",
       "\n",
       "                         processed_review_text_SPACY  \n",
       "0  special book start slow middle start interesti...  \n",
       "1  recommend don katz avail free december http://...  \n",
       "2  fun fast pace science fiction thriller read 2 ...  \n",
       "3  recommend reading understand middle america po...  \n",
       "4  enjoy book lot recommend drag little end knock...  "
      ]
     },
     "execution_count": 7,
     "metadata": {},
     "output_type": "execute_result"
    }
   ],
   "source": [
    "df = pd.read_csv('goodreads_reviews_spoiler.csv')\n",
    "df.head()"
   ]
  },
  {
   "cell_type": "markdown",
   "id": "93e34461",
   "metadata": {},
   "source": [
    "### 1. Data Preprocessing"
   ]
  },
  {
   "cell_type": "code",
   "execution_count": 9,
   "id": "27377c44",
   "metadata": {},
   "outputs": [],
   "source": [
    "df['timestamp'] = pd.to_datetime(df['timestamp'])\n",
    "\n",
    "# function to flatten the clolumns \"review_sentences\" which has nested lists\n",
    "def flatten_review_sentences(review_sentences):\n",
    "    # convert string representation of list to an actual list\n",
    "    sentences = ast.literal_eval(review_sentences)\n",
    "    # extract the text from each inner list and concatenate them\n",
    "    flattened_text = ' '.join([sentence[1] for sentence in sentences])\n",
    "    return flattened_text\n",
    "\n",
    "df['review_text'] = df['review_sentences'].apply(flatten_review_sentences)\n",
    "df = df.drop(columns=['review_sentences'])"
   ]
  },
  {
   "cell_type": "code",
   "execution_count": 11,
   "id": "e8efdc0f",
   "metadata": {},
   "outputs": [],
   "source": [
    "# # checking for missing values\n",
    "# df.isna().sum()"
   ]
  },
  {
   "cell_type": "markdown",
   "id": "f584e87c",
   "metadata": {},
   "source": [
    "### 2. Feature Engineering"
   ]
  },
  {
   "cell_type": "code",
   "execution_count": 12,
   "id": "c46ab37f",
   "metadata": {},
   "outputs": [],
   "source": [
    "df['review_length'] = df['review_text'].apply(lambda x: len(x.split()))\n",
    "# a binary feature for short reviews\n",
    "df['is_short_review'] = df['review_length'] < 200"
   ]
  },
  {
   "cell_type": "markdown",
   "id": "dfb0e30a",
   "metadata": {},
   "source": [
    "### 3. EDA"
   ]
  },
  {
   "cell_type": "code",
   "execution_count": 27,
   "id": "d58f1ab0",
   "metadata": {},
   "outputs": [
    {
     "data": {
      "image/png": "[encoded data removed]",
      "text/plain": [
       "<Figure size 800x500 with 1 Axes>"
      ]
     },
     "metadata": {},
     "output_type": "display_data"
    }
   ],
   "source": [
    "colors = ['#583101', '#603808', '#8B5E34', '#A47148', '#BC8A5F', '#D4A276', '#E7BC91', '#F3D5B5','#fffae5','#fff6cc','#fff2b2','#ffee99','#ffe97f','#ffe566','#ffe14c','#ffdd32','#ffd819','#ffd400', '#ffc300', '#ffb700']\n",
    "\n",
    "plt.figure(figsize=(8, 5))\n",
    "sns.barplot(x=df['rating'].value_counts().index, y=df['rating'].value_counts().values, palette=colors)\n",
    "plt.xlabel('Rating')\n",
    "plt.ylabel('Density')\n",
    "plt.title('Distribution of Ratings')\n",
    "plt.show()"
   ]
  },
  {
   "cell_type": "markdown",
   "id": "406f3484",
   "metadata": {},
   "source": [
    "The ratings are distributed across the scale from 0 to 5, with 4 and 5 ratings more frequent than others."
   ]
  },
  {
   "cell_type": "code",
   "execution_count": 37,
   "id": "07639965",
   "metadata": {},
   "outputs": [
    {
     "data": {
      "image/png": "[encoded data removed]",
      "text/plain": [
       "<Figure size 800x500 with 1 Axes>"
      ]
     },
     "metadata": {},
     "output_type": "display_data"
    }
   ],
   "source": [
    "plt.figure(figsize=(8, 5))\n",
    "sns.histplot(data=df, x=\"review_length\", color='#D4A276') \n",
    "plt.xlabel('Review Length')\n",
    "plt.ylabel('Density')\n",
    "plt.title('Distribution of Review Lengths')\n",
    "plt.show()"
   ]
  },
  {
   "cell_type": "code",
   "execution_count": 43,
   "id": "c8af46c6",
   "metadata": {},
   "outputs": [
    {
     "name": "stdout",
     "output_type": "stream",
     "text": [
      "Percentage of reviews with length < 200: 66.99%\n"
     ]
    }
   ],
   "source": [
    "short_reviews_percentage = (df['review_length'] < 200).mean() * 100\n",
    "print(f\"Percentage of reviews with length < 200: {short_reviews_percentage:.2f}%\")"
   ]
  },
  {
   "cell_type": "markdown",
   "id": "b5773c1d",
   "metadata": {},
   "source": [
    "The plot shows that approx. 67% of the reviews have a length lower than 200 words, which indicates that the majority of reviews are relatively short. "
   ]
  },
  {
   "cell_type": "code",
   "execution_count": 35,
   "id": "4b0f019d",
   "metadata": {},
   "outputs": [
    {
     "data": {
      "image/png": "[encoded data removed]",
      "text/plain": [
       "<Figure size 640x480 with 1 Axes>"
      ]
     },
     "metadata": {},
     "output_type": "display_data"
    }
   ],
   "source": [
    "sns.boxplot(\n",
    "    x=\"has_spoiler\",\n",
    "    y=\"rating\",\n",
    "    data=df,\n",
    "    palette=['#ffe97f','#ffe566','#ffe14c',],\n",
    ")\n",
    "plt.xlabel('Has Spoiler (Yes/No)')\n",
    "plt.ylabel('Rating')\n",
    "plt.title('Relationship between Ratings and Spoilers')\n",
    "plt.show()"
   ]
  },
  {
   "cell_type": "markdown",
   "id": "0d0f7a50",
   "metadata": {},
   "source": [
    "The box plot shows that reviews without spoilers have higher ratings and reviews with spoilers tend to have lower ratings, with notable outliers in the 0-1 range."
   ]
  },
  {
   "cell_type": "markdown",
   "id": "48021351",
   "metadata": {},
   "source": [
    "### 4. Text Preprocessing"
   ]
  },
  {
   "cell_type": "code",
   "execution_count": 38,
   "id": "94cf7f5c",
   "metadata": {},
   "outputs": [
    {
     "data": {
      "text/html": [
       "<div>\n",
       "<style scoped>\n",
       "    .dataframe tbody tr th:only-of-type {\n",
       "        vertical-align: middle;\n",
       "    }\n",
       "\n",
       "    .dataframe tbody tr th {\n",
       "        vertical-align: top;\n",
       "    }\n",
       "\n",
       "    .dataframe thead th {\n",
       "        text-align: right;\n",
       "    }\n",
       "</style>\n",
       "<table border=\"1\" class=\"dataframe\">\n",
       "  <thead>\n",
       "    <tr style=\"text-align: right;\">\n",
       "      <th></th>\n",
       "      <th>review_text</th>\n",
       "      <th>processed_review_text_NLTK</th>\n",
       "    </tr>\n",
       "  </thead>\n",
       "  <tbody>\n",
       "    <tr>\n",
       "      <th>0</th>\n",
       "      <td>This is a special book. It started slow for ab...</td>\n",
       "      <td>special book started slow first third middle t...</td>\n",
       "    </tr>\n",
       "    <tr>\n",
       "      <th>1</th>\n",
       "      <td>Recommended by Don Katz. Avail for free in Dec...</td>\n",
       "      <td>recommended katz avail free december http</td>\n",
       "    </tr>\n",
       "    <tr>\n",
       "      <th>2</th>\n",
       "      <td>A fun, fast paced science fiction thriller. I ...</td>\n",
       "      <td>fun fast paced science fiction thriller read 2...</td>\n",
       "    </tr>\n",
       "    <tr>\n",
       "      <th>3</th>\n",
       "      <td>Recommended reading to understand what is goin...</td>\n",
       "      <td>recommended reading understand going middle am...</td>\n",
       "    </tr>\n",
       "    <tr>\n",
       "      <th>4</th>\n",
       "      <td>I really enjoyed this book, and there is a lot...</td>\n",
       "      <td>really enjoyed book lot recommend drag little ...</td>\n",
       "    </tr>\n",
       "  </tbody>\n",
       "</table>\n",
       "</div>"
      ],
      "text/plain": [
       "                                         review_text  \\\n",
       "0  This is a special book. It started slow for ab...   \n",
       "1  Recommended by Don Katz. Avail for free in Dec...   \n",
       "2  A fun, fast paced science fiction thriller. I ...   \n",
       "3  Recommended reading to understand what is goin...   \n",
       "4  I really enjoyed this book, and there is a lot...   \n",
       "\n",
       "                          processed_review_text_NLTK  \n",
       "0  special book started slow first third middle t...  \n",
       "1          recommended katz avail free december http  \n",
       "2  fun fast paced science fiction thriller read 2...  \n",
       "3  recommended reading understand going middle am...  \n",
       "4  really enjoyed book lot recommend drag little ...  "
      ]
     },
     "execution_count": 38,
     "metadata": {},
     "output_type": "execute_result"
    }
   ],
   "source": [
    "# initialize the lemmatizer\n",
    "lemmatizer = WordNetLemmatizer()\n",
    "\n",
    "stop_words = set(stopwords.words('english'))\n",
    "\n",
    "# function for text preprocessing\n",
    "def preprocess_text(text):\n",
    "    # tokenize the text\n",
    "    tokens = word_tokenize(text)\n",
    "    # convert to lowercase\n",
    "    tokens = [word.lower() for word in tokens]\n",
    "    # remove punctuation and stop words, and lemmatize\n",
    "    tokens = [lemmatizer.lemmatize(word) for word in tokens if word.isalnum() and word not in stop_words]\n",
    "    return ' '.join(tokens)\n",
    "\n",
    "df['processed_review_text_NLTK'] = df['review_text'].apply(preprocess_text)\n",
    "df[['review_text', 'processed_review_text_NLTK']].head()"
   ]
  },
  {
   "cell_type": "code",
   "execution_count": 39,
   "id": "7c0115b1",
   "metadata": {},
   "outputs": [
    {
     "data": {
      "text/html": [
       "<div>\n",
       "<style scoped>\n",
       "    .dataframe tbody tr th:only-of-type {\n",
       "        vertical-align: middle;\n",
       "    }\n",
       "\n",
       "    .dataframe tbody tr th {\n",
       "        vertical-align: top;\n",
       "    }\n",
       "\n",
       "    .dataframe thead th {\n",
       "        text-align: right;\n",
       "    }\n",
       "</style>\n",
       "<table border=\"1\" class=\"dataframe\">\n",
       "  <thead>\n",
       "    <tr style=\"text-align: right;\">\n",
       "      <th></th>\n",
       "      <th>review_text</th>\n",
       "      <th>processed_review_text_SPACY</th>\n",
       "    </tr>\n",
       "  </thead>\n",
       "  <tbody>\n",
       "    <tr>\n",
       "      <th>0</th>\n",
       "      <td>This is a special book. It started slow for ab...</td>\n",
       "      <td>special book start slow middle start interesti...</td>\n",
       "    </tr>\n",
       "    <tr>\n",
       "      <th>1</th>\n",
       "      <td>Recommended by Don Katz. Avail for free in Dec...</td>\n",
       "      <td>recommend don katz avail free december http://...</td>\n",
       "    </tr>\n",
       "    <tr>\n",
       "      <th>2</th>\n",
       "      <td>A fun, fast paced science fiction thriller. I ...</td>\n",
       "      <td>fun fast pace science fiction thriller read 2 ...</td>\n",
       "    </tr>\n",
       "    <tr>\n",
       "      <th>3</th>\n",
       "      <td>Recommended reading to understand what is goin...</td>\n",
       "      <td>recommend reading understand middle america po...</td>\n",
       "    </tr>\n",
       "    <tr>\n",
       "      <th>4</th>\n",
       "      <td>I really enjoyed this book, and there is a lot...</td>\n",
       "      <td>enjoy book lot recommend drag little end knock...</td>\n",
       "    </tr>\n",
       "  </tbody>\n",
       "</table>\n",
       "</div>"
      ],
      "text/plain": [
       "                                         review_text  \\\n",
       "0  This is a special book. It started slow for ab...   \n",
       "1  Recommended by Don Katz. Avail for free in Dec...   \n",
       "2  A fun, fast paced science fiction thriller. I ...   \n",
       "3  Recommended reading to understand what is goin...   \n",
       "4  I really enjoyed this book, and there is a lot...   \n",
       "\n",
       "                         processed_review_text_SPACY  \n",
       "0  special book start slow middle start interesti...  \n",
       "1  recommend don katz avail free december http://...  \n",
       "2  fun fast pace science fiction thriller read 2 ...  \n",
       "3  recommend reading understand middle america po...  \n",
       "4  enjoy book lot recommend drag little end knock...  "
      ]
     },
     "execution_count": 39,
     "metadata": {},
     "output_type": "execute_result"
    }
   ],
   "source": [
    "nlp = spacy.load('en_core_web_sm', disable=['parser', 'ner'])\n",
    "\n",
    "# function for text preprocessing\n",
    "def preprocess_text(text):\n",
    "    # tokenize the text\n",
    "    doc = nlp(text)\n",
    "    \n",
    "    # lemmatize the tokens and convert to lowercase\n",
    "    tokens = [token.lemma_.lower() for token in doc if not token.is_punct and not token.is_space]\n",
    "    \n",
    "    # remove stop words\n",
    "    tokens = [token for token in tokens if token not in STOP_WORDS]\n",
    "    \n",
    "    return ' '.join(tokens)\n",
    "\n",
    "df['processed_review_text_SPACY'] = df['review_text'].apply(preprocess_text)\n",
    "df[['review_text', 'processed_review_text_SPACY']].head()"
   ]
  },
  {
   "cell_type": "code",
   "execution_count": 40,
   "id": "26d78a64",
   "metadata": {},
   "outputs": [],
   "source": [
    "# save the processed data for further analysis\n",
    "df.to_csv('processed_data.csv', index=False)"
   ]
  }
 ],
 "metadata": {
  "kernelspec": {
   "display_name": "Python 3 (ipykernel)",
   "language": "python",
   "name": "python3"
  },
  "language_info": {
   "codemirror_mode": {
    "name": "ipython",
    "version": 3
   },
   "file_extension": ".py",
   "mimetype": "text/x-python",
   "name": "python",
   "nbconvert_exporter": "python",
   "pygments_lexer": "ipython3",
   "version": "3.10.9"
  }
 },
 "nbformat": 4,
 "nbformat_minor": 5
}
